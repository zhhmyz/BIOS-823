{
 "cells": [
  {
   "cell_type": "code",
   "execution_count": 10,
   "metadata": {},
   "outputs": [],
   "source": [
    "import requests\n",
    "import json\n",
    "import pandas as pd"
   ]
  },
  {
   "cell_type": "code",
   "execution_count": 118,
   "metadata": {},
   "outputs": [],
   "source": [
    "person = []\n",
    "for i in range(1,83):\n",
    "    p = requests.get(\"https://swapi.dev/api/people/{}\".format(i)).json()\n",
    "    person.append(p)"
   ]
  },
  {
   "cell_type": "code",
   "execution_count": 12,
   "metadata": {},
   "outputs": [],
   "source": [
    "df = pd.json_normalize(person)"
   ]
  },
  {
   "cell_type": "code",
   "execution_count": 122,
   "metadata": {},
   "outputs": [
    {
     "data": {
      "text/html": [
       "<div>\n",
       "<style scoped>\n",
       "    .dataframe tbody tr th:only-of-type {\n",
       "        vertical-align: middle;\n",
       "    }\n",
       "\n",
       "    .dataframe tbody tr th {\n",
       "        vertical-align: top;\n",
       "    }\n",
       "\n",
       "    .dataframe thead th {\n",
       "        text-align: right;\n",
       "    }\n",
       "</style>\n",
       "<table border=\"1\" class=\"dataframe\">\n",
       "  <thead>\n",
       "    <tr style=\"text-align: right;\">\n",
       "      <th></th>\n",
       "      <th>name</th>\n",
       "      <th>height</th>\n",
       "      <th>mass</th>\n",
       "      <th>hair_color</th>\n",
       "      <th>skin_color</th>\n",
       "      <th>eye_color</th>\n",
       "      <th>birth_year</th>\n",
       "      <th>gender</th>\n",
       "      <th>homeworld</th>\n",
       "      <th>films</th>\n",
       "      <th>species</th>\n",
       "      <th>vehicles</th>\n",
       "      <th>starships</th>\n",
       "      <th>created</th>\n",
       "      <th>edited</th>\n",
       "      <th>url</th>\n",
       "      <th>detail</th>\n",
       "    </tr>\n",
       "  </thead>\n",
       "  <tbody>\n",
       "    <tr>\n",
       "      <th>67</th>\n",
       "      <td>Bail Prestor Organa</td>\n",
       "      <td>191</td>\n",
       "      <td>unknown</td>\n",
       "      <td>black</td>\n",
       "      <td>tan</td>\n",
       "      <td>brown</td>\n",
       "      <td>67BBY</td>\n",
       "      <td>male</td>\n",
       "      <td>http://swapi.dev/api/planets/2/</td>\n",
       "      <td>[http://swapi.dev/api/films/5/, http://swapi.d...</td>\n",
       "      <td>[http://swapi.dev/api/species/1/]</td>\n",
       "      <td>[]</td>\n",
       "      <td>[]</td>\n",
       "      <td>2014-12-20T16:53:08.575000Z</td>\n",
       "      <td>2014-12-20T21:17:50.463000Z</td>\n",
       "      <td>http://swapi.dev/api/people/68/</td>\n",
       "      <td>NaN</td>\n",
       "    </tr>\n",
       "    <tr>\n",
       "      <th>47</th>\n",
       "      <td>Dud Bolt</td>\n",
       "      <td>94</td>\n",
       "      <td>45</td>\n",
       "      <td>none</td>\n",
       "      <td>blue, grey</td>\n",
       "      <td>yellow</td>\n",
       "      <td>unknown</td>\n",
       "      <td>male</td>\n",
       "      <td>http://swapi.dev/api/planets/39/</td>\n",
       "      <td>[http://swapi.dev/api/films/4/]</td>\n",
       "      <td>[http://swapi.dev/api/species/17/]</td>\n",
       "      <td>[]</td>\n",
       "      <td>[]</td>\n",
       "      <td>2014-12-20T09:57:31.858000Z</td>\n",
       "      <td>2014-12-20T21:17:50.414000Z</td>\n",
       "      <td>http://swapi.dev/api/people/48/</td>\n",
       "      <td>NaN</td>\n",
       "    </tr>\n",
       "    <tr>\n",
       "      <th>33</th>\n",
       "      <td>Finis Valorum</td>\n",
       "      <td>170</td>\n",
       "      <td>unknown</td>\n",
       "      <td>blond</td>\n",
       "      <td>fair</td>\n",
       "      <td>blue</td>\n",
       "      <td>91BBY</td>\n",
       "      <td>male</td>\n",
       "      <td>http://swapi.dev/api/planets/9/</td>\n",
       "      <td>[http://swapi.dev/api/films/4/]</td>\n",
       "      <td>[]</td>\n",
       "      <td>[]</td>\n",
       "      <td>[]</td>\n",
       "      <td>2014-12-19T17:21:45.915000Z</td>\n",
       "      <td>2014-12-20T21:17:50.379000Z</td>\n",
       "      <td>http://swapi.dev/api/people/34/</td>\n",
       "      <td>NaN</td>\n",
       "    </tr>\n",
       "    <tr>\n",
       "      <th>2</th>\n",
       "      <td>R2-D2</td>\n",
       "      <td>96</td>\n",
       "      <td>32</td>\n",
       "      <td>n/a</td>\n",
       "      <td>white, blue</td>\n",
       "      <td>red</td>\n",
       "      <td>33BBY</td>\n",
       "      <td>n/a</td>\n",
       "      <td>http://swapi.dev/api/planets/8/</td>\n",
       "      <td>[http://swapi.dev/api/films/1/, http://swapi.d...</td>\n",
       "      <td>[http://swapi.dev/api/species/2/]</td>\n",
       "      <td>[]</td>\n",
       "      <td>[]</td>\n",
       "      <td>2014-12-10T15:11:50.376000Z</td>\n",
       "      <td>2014-12-20T21:17:50.311000Z</td>\n",
       "      <td>http://swapi.dev/api/people/3/</td>\n",
       "      <td>NaN</td>\n",
       "    </tr>\n",
       "    <tr>\n",
       "      <th>14</th>\n",
       "      <td>Greedo</td>\n",
       "      <td>173</td>\n",
       "      <td>74</td>\n",
       "      <td>n/a</td>\n",
       "      <td>green</td>\n",
       "      <td>black</td>\n",
       "      <td>44BBY</td>\n",
       "      <td>male</td>\n",
       "      <td>http://swapi.dev/api/planets/23/</td>\n",
       "      <td>[http://swapi.dev/api/films/1/]</td>\n",
       "      <td>[http://swapi.dev/api/species/4/]</td>\n",
       "      <td>[]</td>\n",
       "      <td>[]</td>\n",
       "      <td>2014-12-10T17:03:30.334000Z</td>\n",
       "      <td>2014-12-20T21:17:50.336000Z</td>\n",
       "      <td>http://swapi.dev/api/people/15/</td>\n",
       "      <td>NaN</td>\n",
       "    </tr>\n",
       "  </tbody>\n",
       "</table>\n",
       "</div>"
      ],
      "text/plain": [
       "                   name height     mass hair_color   skin_color eye_color  \\\n",
       "67  Bail Prestor Organa    191  unknown      black          tan     brown   \n",
       "47             Dud Bolt     94       45       none   blue, grey    yellow   \n",
       "33        Finis Valorum    170  unknown      blond         fair      blue   \n",
       "2                 R2-D2     96       32        n/a  white, blue       red   \n",
       "14               Greedo    173       74        n/a        green     black   \n",
       "\n",
       "   birth_year gender                         homeworld  \\\n",
       "67      67BBY   male   http://swapi.dev/api/planets/2/   \n",
       "47    unknown   male  http://swapi.dev/api/planets/39/   \n",
       "33      91BBY   male   http://swapi.dev/api/planets/9/   \n",
       "2       33BBY    n/a   http://swapi.dev/api/planets/8/   \n",
       "14      44BBY   male  http://swapi.dev/api/planets/23/   \n",
       "\n",
       "                                                films  \\\n",
       "67  [http://swapi.dev/api/films/5/, http://swapi.d...   \n",
       "47                    [http://swapi.dev/api/films/4/]   \n",
       "33                    [http://swapi.dev/api/films/4/]   \n",
       "2   [http://swapi.dev/api/films/1/, http://swapi.d...   \n",
       "14                    [http://swapi.dev/api/films/1/]   \n",
       "\n",
       "                               species vehicles starships  \\\n",
       "67   [http://swapi.dev/api/species/1/]       []        []   \n",
       "47  [http://swapi.dev/api/species/17/]       []        []   \n",
       "33                                  []       []        []   \n",
       "2    [http://swapi.dev/api/species/2/]       []        []   \n",
       "14   [http://swapi.dev/api/species/4/]       []        []   \n",
       "\n",
       "                        created                       edited  \\\n",
       "67  2014-12-20T16:53:08.575000Z  2014-12-20T21:17:50.463000Z   \n",
       "47  2014-12-20T09:57:31.858000Z  2014-12-20T21:17:50.414000Z   \n",
       "33  2014-12-19T17:21:45.915000Z  2014-12-20T21:17:50.379000Z   \n",
       "2   2014-12-10T15:11:50.376000Z  2014-12-20T21:17:50.311000Z   \n",
       "14  2014-12-10T17:03:30.334000Z  2014-12-20T21:17:50.336000Z   \n",
       "\n",
       "                                url detail  \n",
       "67  http://swapi.dev/api/people/68/    NaN  \n",
       "47  http://swapi.dev/api/people/48/    NaN  \n",
       "33  http://swapi.dev/api/people/34/    NaN  \n",
       "2    http://swapi.dev/api/people/3/    NaN  \n",
       "14  http://swapi.dev/api/people/15/    NaN  "
      ]
     },
     "execution_count": 122,
     "metadata": {},
     "output_type": "execute_result"
    }
   ],
   "source": [
    "df.sample(5)"
   ]
  },
  {
   "cell_type": "code",
   "execution_count": 16,
   "metadata": {},
   "outputs": [
    {
     "data": {
      "text/plain": [
       "array(['19BBY', '112BBY', '33BBY', '41.9BBY', '52BBY', '47BBY', 'unknown',\n",
       "       '24BBY', '57BBY', '64BBY', '200BBY', '29BBY', '44BBY', '600BBY',\n",
       "       nan, '21BBY', '896BBY', '82BBY', '31.5BBY', '15BBY', '53BBY',\n",
       "       '31BBY', '37BBY', '41BBY', '48BBY', '8BBY', '92BBY', '91BBY',\n",
       "       '46BBY', '62BBY', '72BBY', '54BBY', '22BBY', '58BBY', '40BBY',\n",
       "       '102BBY', '67BBY', '66BBY'], dtype=object)"
      ]
     },
     "execution_count": 16,
     "metadata": {},
     "output_type": "execute_result"
    }
   ],
   "source": [
    "df['birth_year'].unique()"
   ]
  },
  {
   "cell_type": "code",
   "execution_count": 59,
   "metadata": {},
   "outputs": [
    {
     "data": {
      "text/plain": [
       "19    896.0\n",
       "15    600.0\n",
       "12    200.0\n",
       "1     112.0\n",
       "66    102.0\n",
       "Name: 0, dtype: float64"
      ]
     },
     "execution_count": 59,
     "metadata": {},
     "output_type": "execute_result"
    }
   ],
   "source": [
    "(\n",
    "    df['birth_year'].str.\n",
    "    extract('(\\d+)').\n",
    "    iloc[:,0].\n",
    "    astype('float').\n",
    "    sort_values(ascending = False).\n",
    "    head(5)\n",
    ")"
   ]
  },
  {
   "cell_type": "code",
   "execution_count": 125,
   "metadata": {},
   "outputs": [
    {
     "data": {
      "text/plain": [
       "name                                                       Yoda\n",
       "height                                                       66\n",
       "mass                                                         17\n",
       "hair_color                                                white\n",
       "skin_color                                                green\n",
       "eye_color                                                 brown\n",
       "birth_year                                               896BBY\n",
       "gender                                                     male\n",
       "homeworld                      http://swapi.dev/api/planets/28/\n",
       "films         [http://swapi.dev/api/films/2/, http://swapi.d...\n",
       "species                       [http://swapi.dev/api/species/6/]\n",
       "vehicles                                                     []\n",
       "starships                                                    []\n",
       "created                             2014-12-15T12:26:01.042000Z\n",
       "edited                              2014-12-20T21:17:50.345000Z\n",
       "url                             http://swapi.dev/api/people/20/\n",
       "detail                                                      NaN\n",
       "Name: 19, dtype: object"
      ]
     },
     "execution_count": 125,
     "metadata": {},
     "output_type": "execute_result"
    }
   ],
   "source": [
    "df.iloc[19,:]"
   ]
  },
  {
   "cell_type": "code",
   "execution_count": 119,
   "metadata": {},
   "outputs": [],
   "source": [
    "def get_title(d):\n",
    "    urls = d['films']\n",
    "    title = [requests.get(url).json() for url in urls]\n",
    "    d['films']  = title\n",
    "    return d"
   ]
  },
  {
   "cell_type": "code",
   "execution_count": 120,
   "metadata": {},
   "outputs": [
    {
     "data": {
      "text/plain": [
       "['The Empire Strikes Back',\n",
       " 'Return of the Jedi',\n",
       " 'The Phantom Menace',\n",
       " 'Attack of the Clones',\n",
       " 'Revenge of the Sith']"
      ]
     },
     "execution_count": 120,
     "metadata": {},
     "output_type": "execute_result"
    }
   ],
   "source": [
    "films = get_title(person[19])\n",
    "[x['title'] for x in films['films']]"
   ]
  }
 ],
 "metadata": {
  "kernelspec": {
   "display_name": "Python 3",
   "language": "python",
   "name": "python3"
  },
  "language_info": {
   "codemirror_mode": {
    "name": "ipython",
    "version": 3
   },
   "file_extension": ".py",
   "mimetype": "text/x-python",
   "name": "python",
   "nbconvert_exporter": "python",
   "pygments_lexer": "ipython3",
   "version": "3.7.8"
  }
 },
 "nbformat": 4,
 "nbformat_minor": 4
}
